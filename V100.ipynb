{
  "nbformat": 4,
  "nbformat_minor": 0,
  "metadata": {
    "colab": {
      "name": "V100.ipynb",
      "provenance": [],
      "collapsed_sections": []
    },
    "kernelspec": {
      "name": "python3",
      "display_name": "Python 3"
    },
    "language_info": {
      "name": "python"
    },
    "accelerator": "GPU"
  },
  "cells": [
    {
      "cell_type": "code",
      "metadata": {
        "id": "fyMnGloPFmfw",
        "cellView": "form"
      },
      "source": [
        "#@title **SSH**\n",
        "\n",
        "! pip install colab_ssh --upgrade &> /dev/null\n",
        "\n",
        "Ngrok = True #@param {type:'boolean'}\n",
        "Agro = False #@param {type:'boolean'}\n",
        "\n",
        "\n",
        "#@markdown Copy authtoken from https://dashboard.ngrok.com/auth (only for ngrok)\n",
        "ngrokToken = \"\" #@param {type:'string'}\n",
        "\n",
        "\n",
        "def runNGROK():\n",
        "    from colab_ssh import launch_ssh\n",
        "    from IPython.display import clear_output\n",
        "    launch_ssh(ngrokToken, password)\n",
        "    clear_output()\n",
        "\n",
        "    print(\"ssh\", username, end='@')\n",
        "    ! curl -s http://localhost:4040/api/tunnels | python3 -c \\\n",
        "            \"import sys, json; print(json.load(sys.stdin)['tunnels'][0]['public_url'][6:].replace(':', ' -p '))\"\n",
        "\n",
        "\n",
        "def runAgro():\n",
        "    from colab_ssh import launch_ssh_cloudflared\n",
        "    launch_ssh_cloudflared(password=password)\n",
        "\n",
        "\n",
        "try:\n",
        "    if username:\n",
        "        pass\n",
        "    elif password:\n",
        "        pass\n",
        "except NameError:\n",
        "    print(\"No user found using username and password as 'root'\")\n",
        "    username='root'\n",
        "    password='root'\n",
        "\n",
        "\n",
        "if Agro and Ngrok:\n",
        "    print(\"You can't do that\")\n",
        "    print(\"Select only one of them\")\n",
        "elif Agro:\n",
        "    runAgro()\n",
        "elif Ngrok:\n",
        "    if ngrokToken == \"\":\n",
        "        print(\"No ngrokToken Found, Please enter it\")\n",
        "    else:\n",
        "        runNGROK()\n",
        "else:\n",
        "    print(\"Select one of them\")"
      ],
      "execution_count": null,
      "outputs": []
    },
    {
      "cell_type": "code",
      "metadata": {
        "colab": {
          "base_uri": "https://localhost:8080/"
        },
        "id": "cnwKOVu5-iNF",
        "cellView": "form",
        "outputId": "dccd48e2-f450-4757-d4e6-a7f2b04acf49"
      },
      "source": [
        "#@title **Colab Shutdown**\n",
        "\n",
        "#@markdown To Kill NGROK Tunnel\n",
        "NGROK = False #@param {type:'boolean'}\n",
        "\n",
        "#@markdown To Unmount GDrive\n",
        "GDrive = True #@param {type:'boolean'}\n",
        "\n",
        "#@markdown To Sleep Colab\n",
        "Sleep = True #@param {type:'boolean'}\n",
        "\n",
        "if NGROK:\n",
        "    ! killall ngrok\n",
        "\n",
        "if GDrive:\n",
        "    with open('/content/unmount.py', 'w') as unmount:\n",
        "        unmount.write(\"\"\"from google.colab import drive\n",
        "drive.flush_and_unmount()\"\"\")\n",
        "    \n",
        "    try:\n",
        "        if user:\n",
        "            ! runuser $user -c 'python3 /content/unmount.py'\n",
        "    except NameError:\n",
        "        print(\"Google Drive not Mounted\")\n",
        "\n",
        "if Sleep:\n",
        "    from time import sleep\n",
        "    sleep(43200)"
      ],
      "execution_count": null,
      "outputs": [
        {
          "output_type": "stream",
          "text": [
            "Google Drive not Mounted\n"
          ],
          "name": "stdout"
        }
      ]
    }
  ]
}